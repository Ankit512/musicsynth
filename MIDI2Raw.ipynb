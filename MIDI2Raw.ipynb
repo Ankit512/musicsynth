{
 "cells": [
  {
   "cell_type": "code",
   "execution_count": 36,
   "metadata": {},
   "outputs": [],
   "source": [
    "import numpy as np\n",
    "import pandas as pd\n",
    "import pretty_midi\n",
    "import os\n",
    "import librosa.display\n",
    "import matplotlib.pyplot as plt"
   ]
  },
  {
   "cell_type": "code",
   "execution_count": 37,
   "metadata": {},
   "outputs": [],
   "source": [
    "%matplotlib inline"
   ]
  },
  {
   "cell_type": "code",
   "execution_count": 4,
   "metadata": {},
   "outputs": [],
   "source": [
    "DATASET_PATH = './dataset/'"
   ]
  },
  {
   "cell_type": "code",
   "execution_count": 5,
   "metadata": {},
   "outputs": [],
   "source": [
    "dataset = pd.read_csv(DATASET_PATH + 'maestro-v2.0.0.csv')"
   ]
  },
  {
   "cell_type": "code",
   "execution_count": 6,
   "metadata": {},
   "outputs": [
    {
     "data": {
      "text/html": [
       "<div>\n",
       "<style scoped>\n",
       "    .dataframe tbody tr th:only-of-type {\n",
       "        vertical-align: middle;\n",
       "    }\n",
       "\n",
       "    .dataframe tbody tr th {\n",
       "        vertical-align: top;\n",
       "    }\n",
       "\n",
       "    .dataframe thead th {\n",
       "        text-align: right;\n",
       "    }\n",
       "</style>\n",
       "<table border=\"1\" class=\"dataframe\">\n",
       "  <thead>\n",
       "    <tr style=\"text-align: right;\">\n",
       "      <th></th>\n",
       "      <th>canonical_composer</th>\n",
       "      <th>canonical_title</th>\n",
       "      <th>split</th>\n",
       "      <th>year</th>\n",
       "      <th>midi_filename</th>\n",
       "      <th>audio_filename</th>\n",
       "      <th>duration</th>\n",
       "    </tr>\n",
       "  </thead>\n",
       "  <tbody>\n",
       "    <tr>\n",
       "      <th>0</th>\n",
       "      <td>Alban Berg</td>\n",
       "      <td>Sonata Op. 1</td>\n",
       "      <td>train</td>\n",
       "      <td>2018</td>\n",
       "      <td>2018/MIDI-Unprocessed_Chamber3_MID--AUDIO_10_R...</td>\n",
       "      <td>2018/MIDI-Unprocessed_Chamber3_MID--AUDIO_10_R...</td>\n",
       "      <td>698.661160</td>\n",
       "    </tr>\n",
       "    <tr>\n",
       "      <th>1</th>\n",
       "      <td>Alban Berg</td>\n",
       "      <td>Sonata Op. 1</td>\n",
       "      <td>train</td>\n",
       "      <td>2008</td>\n",
       "      <td>2008/MIDI-Unprocessed_03_R2_2008_01-03_ORIG_MI...</td>\n",
       "      <td>2008/MIDI-Unprocessed_03_R2_2008_01-03_ORIG_MI...</td>\n",
       "      <td>759.518471</td>\n",
       "    </tr>\n",
       "    <tr>\n",
       "      <th>2</th>\n",
       "      <td>Alban Berg</td>\n",
       "      <td>Sonata Op. 1</td>\n",
       "      <td>train</td>\n",
       "      <td>2017</td>\n",
       "      <td>2017/MIDI-Unprocessed_066_PIANO066_MID--AUDIO-...</td>\n",
       "      <td>2017/MIDI-Unprocessed_066_PIANO066_MID--AUDIO-...</td>\n",
       "      <td>464.649433</td>\n",
       "    </tr>\n",
       "    <tr>\n",
       "      <th>3</th>\n",
       "      <td>Alexander Scriabin</td>\n",
       "      <td>24 Preludes Op. 11, No. 13-24</td>\n",
       "      <td>train</td>\n",
       "      <td>2004</td>\n",
       "      <td>2004/MIDI-Unprocessed_XP_21_R1_2004_01_ORIG_MI...</td>\n",
       "      <td>2004/MIDI-Unprocessed_XP_21_R1_2004_01_ORIG_MI...</td>\n",
       "      <td>872.640588</td>\n",
       "    </tr>\n",
       "    <tr>\n",
       "      <th>4</th>\n",
       "      <td>Alexander Scriabin</td>\n",
       "      <td>3 Etudes, Op. 65</td>\n",
       "      <td>validation</td>\n",
       "      <td>2006</td>\n",
       "      <td>2006/MIDI-Unprocessed_17_R1_2006_01-06_ORIG_MI...</td>\n",
       "      <td>2006/MIDI-Unprocessed_17_R1_2006_01-06_ORIG_MI...</td>\n",
       "      <td>397.857508</td>\n",
       "    </tr>\n",
       "  </tbody>\n",
       "</table>\n",
       "</div>"
      ],
      "text/plain": [
       "   canonical_composer                canonical_title       split  year  \\\n",
       "0          Alban Berg                   Sonata Op. 1       train  2018   \n",
       "1          Alban Berg                   Sonata Op. 1       train  2008   \n",
       "2          Alban Berg                   Sonata Op. 1       train  2017   \n",
       "3  Alexander Scriabin  24 Preludes Op. 11, No. 13-24       train  2004   \n",
       "4  Alexander Scriabin               3 Etudes, Op. 65  validation  2006   \n",
       "\n",
       "                                       midi_filename  \\\n",
       "0  2018/MIDI-Unprocessed_Chamber3_MID--AUDIO_10_R...   \n",
       "1  2008/MIDI-Unprocessed_03_R2_2008_01-03_ORIG_MI...   \n",
       "2  2017/MIDI-Unprocessed_066_PIANO066_MID--AUDIO-...   \n",
       "3  2004/MIDI-Unprocessed_XP_21_R1_2004_01_ORIG_MI...   \n",
       "4  2006/MIDI-Unprocessed_17_R1_2006_01-06_ORIG_MI...   \n",
       "\n",
       "                                      audio_filename    duration  \n",
       "0  2018/MIDI-Unprocessed_Chamber3_MID--AUDIO_10_R...  698.661160  \n",
       "1  2008/MIDI-Unprocessed_03_R2_2008_01-03_ORIG_MI...  759.518471  \n",
       "2  2017/MIDI-Unprocessed_066_PIANO066_MID--AUDIO-...  464.649433  \n",
       "3  2004/MIDI-Unprocessed_XP_21_R1_2004_01_ORIG_MI...  872.640588  \n",
       "4  2006/MIDI-Unprocessed_17_R1_2006_01-06_ORIG_MI...  397.857508  "
      ]
     },
     "execution_count": 6,
     "metadata": {},
     "output_type": "execute_result"
    }
   ],
   "source": [
    "dataset.head()"
   ]
  },
  {
   "cell_type": "code",
   "execution_count": 15,
   "metadata": {},
   "outputs": [],
   "source": [
    "list_of_composers = set(dataset['canonical_composer'])"
   ]
  },
  {
   "cell_type": "code",
   "execution_count": 22,
   "metadata": {},
   "outputs": [],
   "source": [
    "dataframes_by_composers = {}\n",
    "for name in list_of_composers:\n",
    "    dataframes_by_composers[name] = dataset.loc[dataset['canonical_composer'] == name]"
   ]
  },
  {
   "cell_type": "code",
   "execution_count": 28,
   "metadata": {},
   "outputs": [
    {
     "name": "stdout",
     "output_type": "stream",
     "text": [
      "1244    2006/MIDI-Unprocessed_07_R1_2006_01-04_ORIG_MI...\n",
      "1245    2009/MIDI-Unprocessed_04_R1_2009_01-03_ORIG_MI...\n",
      "1246    2018/MIDI-Unprocessed_Chamber2_MID--AUDIO_09_R...\n",
      "1247    2011/MIDI-Unprocessed_05_R1_2011_MID--AUDIO_R1...\n",
      "1248    2006/MIDI-Unprocessed_24_R1_2006_01-05_ORIG_MI...\n",
      "1249    2015/MIDI-Unprocessed_R1_D1-1-8_mid--AUDIO-fro...\n",
      "1250    2008/MIDI-Unprocessed_08_R1_2008_01-05_ORIG_MI...\n",
      "1251    2011/MIDI-Unprocessed_02_R1_2011_MID--AUDIO_R1...\n",
      "1252    2013/ORIG-MIDI_03_7_10_13_Group_MID--AUDIO_17_...\n",
      "1253    2017/MIDI-Unprocessed_052_PIANO052_MID--AUDIO-...\n",
      "1254    2013/ORIG-MIDI_02_7_7_13_Group__MID--AUDIO_18_...\n",
      "1255    2009/MIDI-Unprocessed_08_R1_2009_01-04_ORIG_MI...\n",
      "1256    2015/MIDI-Unprocessed_R1_D2-13-20_mid--AUDIO-f...\n",
      "1257    2015/MIDI-Unprocessed_R1_D2-13-20_mid--AUDIO-f...\n",
      "1258    2008/MIDI-Unprocessed_02_R1_2008_01-05_ORIG_MI...\n",
      "1259    2018/MIDI-Unprocessed_Recital13-15_MID--AUDIO_...\n",
      "1260    2013/ORIG-MIDI_01_7_7_13_Group__MID--AUDIO_11_...\n",
      "1261    2018/MIDI-Unprocessed_Recital12_MID--AUDIO_12_...\n",
      "1262    2008/MIDI-Unprocessed_14_R1_2008_01-05_ORIG_MI...\n",
      "1263    2008/MIDI-Unprocessed_07_R3_2008_01-05_ORIG_MI...\n",
      "1264    2011/MIDI-Unprocessed_03_R1_2011_MID--AUDIO_R1...\n",
      "1265    2009/MIDI-Unprocessed_14_R1_2009_06-08_ORIG_MI...\n",
      "1266    2014/MIDI-UNPROCESSED_09-10_R1_2014_MID--AUDIO...\n",
      "1267    2013/ORIG-MIDI_01_7_7_13_Group__MID--AUDIO_12_...\n",
      "1268    2013/ORIG-MIDI_01_7_7_13_Group__MID--AUDIO_12_...\n",
      "1269    2009/MIDI-Unprocessed_05_R1_2009_01-02_ORIG_MI...\n",
      "1270    2011/MIDI-Unprocessed_07_R1_2011_MID--AUDIO_R1...\n",
      "1271    2006/MIDI-Unprocessed_16_R1_2006_01-04_ORIG_MI...\n",
      "1272    2006/MIDI-Unprocessed_06_R1_2006_01-04_ORIG_MI...\n",
      "1273    2015/MIDI-Unprocessed_R1_D1-9-12_mid--AUDIO-fr...\n",
      "1274    2015/MIDI-Unprocessed_R1_D1-9-12_mid--AUDIO-fr...\n",
      "1275    2013/ORIG-MIDI_03_7_6_13_Group__MID--AUDIO_09_...\n",
      "1276    2004/MIDI-Unprocessed_XP_14_R1_2004_04_ORIG_MI...\n",
      "1277    2004/MIDI-Unprocessed_XP_14_R1_2004_04_ORIG_MI...\n",
      "1278    2004/MIDI-Unprocessed_XP_14_R1_2004_04_ORIG_MI...\n",
      "1279    2004/MIDI-Unprocessed_SMF_12_01_2004_01-05_ORI...\n",
      "1280    2018/MIDI-Unprocessed_Recital17-19_MID--AUDIO_...\n",
      "1281    2004/MIDI-Unprocessed_XP_04_R1_2004_01-02_ORIG...\n",
      "Name: midi_filename, dtype: object\n"
     ]
    }
   ],
   "source": []
  },
  {
   "cell_type": "code",
   "execution_count": null,
   "metadata": {},
   "outputs": [],
   "source": []
  },
  {
   "cell_type": "code",
   "execution_count": null,
   "metadata": {},
   "outputs": [],
   "source": []
  },
  {
   "cell_type": "code",
   "execution_count": 33,
   "metadata": {},
   "outputs": [],
   "source": [
    "midi_file = open('MIDI-Unprocessed_05_R1_2009_01-02_ORIG_MID--AUDIO_05_R1_2009_05_R1_2009_01_WAV.midi', 'r')"
   ]
  },
  {
   "cell_type": "code",
   "execution_count": 35,
   "metadata": {},
   "outputs": [],
   "source": [
    "pm = pretty_midi.PrettyMIDI('MIDI-Unprocessed_05_R1_2009_01-02_ORIG_MID--AUDIO_05_R1_2009_05_R1_2009_01_WAV.midi')"
   ]
  },
  {
   "cell_type": "code",
   "execution_count": 38,
   "metadata": {},
   "outputs": [],
   "source": [
    "def plot_piano_roll(pm, start_pitch, end_pitch, fs=100):\n",
    "    # Use librosa's specshow function for displaying the piano roll\n",
    "    librosa.display.specshow(pm.get_piano_roll(fs)[start_pitch:end_pitch],\n",
    "                             hop_length=1, sr=fs, x_axis='time', y_axis='cqt_note',\n",
    "                             fmin=pretty_midi.note_number_to_hz(start_pitch))"
   ]
  },
  {
   "cell_type": "code",
   "execution_count": 43,
   "metadata": {},
   "outputs": [
    {
     "data": {
      "image/png": "[encoded data removed]",
      "text/plain": [
       "<Figure size 864x288 with 1 Axes>"
      ]
     },
     "metadata": {
      "needs_background": "light"
     },
     "output_type": "display_data"
    }
   ],
   "source": [
    "plt.figure(figsize=(12, 4))\n",
    "plot_piano_roll(pm, 24, 96, 200)"
   ]
  },
  {
   "cell_type": "code",
   "execution_count": null,
   "metadata": {},
   "outputs": [],
   "source": []
  }
 ],
 "metadata": {
  "kernelspec": {
   "display_name": "Python 3",
   "language": "python",
   "name": "python3"
  },
  "language_info": {
   "codemirror_mode": {
    "name": "ipython",
    "version": 3
   },
   "file_extension": ".py",
   "mimetype": "text/x-python",
   "name": "python",
   "nbconvert_exporter": "python",
   "pygments_lexer": "ipython3",
   "version": "3.8.1"
  }
 },
 "nbformat": 4,
 "nbformat_minor": 4
}
