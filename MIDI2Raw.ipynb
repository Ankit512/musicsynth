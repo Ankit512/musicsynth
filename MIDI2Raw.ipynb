{
 "cells": [
  {
   "cell_type": "code",
   "execution_count": 1,
   "metadata": {},
   "outputs": [
    {
     "name": "stdout",
     "output_type": "stream",
     "text": [
      "Requirement already satisfied: jupyter in /usr/local/lib/python3.5/dist-packages (from -r requirements.txt (line 1)) (1.0.0)\n",
      "Requirement already satisfied: matplotlib in /usr/local/lib/python3.5/dist-packages (from -r requirements.txt (line 2)) (3.0.3)\n",
      "Requirement already satisfied: pandas in /usr/local/lib/python3.5/dist-packages (from -r requirements.txt (line 3)) (0.25.3)\n",
      "Requirement already satisfied: pillow in /usr/local/lib/python3.5/dist-packages (from -r requirements.txt (line 4)) (7.0.0)\n",
      "Requirement already satisfied: pip-chill in /usr/local/lib/python3.5/dist-packages (from -r requirements.txt (line 5)) (0.1.8)\n",
      "Requirement already satisfied: py-midi in /usr/local/lib/python3.5/dist-packages (from -r requirements.txt (line 6)) (2.0.1)\n",
      "Requirement already satisfied: pypianoroll in /usr/local/lib/python3.5/dist-packages (from -r requirements.txt (line 7)) (0.5.3)\n",
      "Requirement already satisfied: jupyter-console in /usr/local/lib/python3.5/dist-packages (from jupyter->-r requirements.txt (line 1)) (6.1.0)\n",
      "Requirement already satisfied: nbconvert in /usr/local/lib/python3.5/dist-packages (from jupyter->-r requirements.txt (line 1)) (5.6.1)\n",
      "Requirement already satisfied: notebook in /usr/local/lib/python3.5/dist-packages (from jupyter->-r requirements.txt (line 1)) (6.0.2)\n",
      "Requirement already satisfied: ipykernel in /usr/local/lib/python3.5/dist-packages (from jupyter->-r requirements.txt (line 1)) (5.1.3)\n",
      "Requirement already satisfied: qtconsole in /usr/local/lib/python3.5/dist-packages (from jupyter->-r requirements.txt (line 1)) (4.6.0)\n",
      "Requirement already satisfied: ipywidgets in /usr/local/lib/python3.5/dist-packages (from jupyter->-r requirements.txt (line 1)) (7.5.1)\n",
      "Requirement already satisfied: pyparsing!=2.0.4,!=2.1.2,!=2.1.6,>=2.0.1 in /usr/local/lib/python3.5/dist-packages (from matplotlib->-r requirements.txt (line 2)) (2.4.6)\n",
      "Requirement already satisfied: python-dateutil>=2.1 in /usr/local/lib/python3.5/dist-packages (from matplotlib->-r requirements.txt (line 2)) (2.8.1)\n",
      "Requirement already satisfied: numpy>=1.10.0 in /usr/local/lib/python3.5/site-packages (from matplotlib->-r requirements.txt (line 2)) (1.15.1)\n",
      "Requirement already satisfied: cycler>=0.10 in /usr/local/lib/python3.5/dist-packages (from matplotlib->-r requirements.txt (line 2)) (0.10.0)\n",
      "Requirement already satisfied: kiwisolver>=1.0.1 in /usr/local/lib/python3.5/dist-packages (from matplotlib->-r requirements.txt (line 2)) (1.1.0)\n",
      "Requirement already satisfied: pytz>=2017.2 in /usr/local/lib/python3.5/dist-packages (from pandas->-r requirements.txt (line 3)) (2019.3)\n",
      "Requirement already satisfied: click in /usr/local/lib/python3.5/dist-packages (from pip-chill->-r requirements.txt (line 5)) (7.0)\n",
      "Requirement already satisfied: pyserial in /usr/local/lib/python3.5/dist-packages (from py-midi->-r requirements.txt (line 6)) (3.4)\n",
      "Requirement already satisfied: pretty-midi<1.0,>=0.2.8 in /usr/local/lib/python3.5/dist-packages (from pypianoroll->-r requirements.txt (line 7)) (0.2.8)\n",
      "Requirement already satisfied: six<2.0,>=1.0.0 in /usr/local/lib/python3.5/dist-packages (from pypianoroll->-r requirements.txt (line 7)) (1.14.0)\n",
      "Requirement already satisfied: scipy<2.0,>=1.0.0 in /usr/local/lib/python3.5/site-packages (from pypianoroll->-r requirements.txt (line 7)) (1.1.0)\n",
      "Requirement already satisfied: pygments in /usr/local/lib/python3.5/dist-packages (from jupyter-console->jupyter->-r requirements.txt (line 1)) (2.5.2)\n",
      "Requirement already satisfied: prompt-toolkit!=3.0.0,!=3.0.1,<3.1.0,>=2.0.0 in /usr/local/lib/python3.5/dist-packages (from jupyter-console->jupyter->-r requirements.txt (line 1)) (2.0.10)\n",
      "Requirement already satisfied: ipython in /usr/local/lib/python3.5/dist-packages (from jupyter-console->jupyter->-r requirements.txt (line 1)) (7.9.0)\n",
      "Requirement already satisfied: jupyter-client in /usr/local/lib/python3.5/dist-packages (from jupyter-console->jupyter->-r requirements.txt (line 1)) (5.3.4)\n",
      "Requirement already satisfied: entrypoints>=0.2.2 in /usr/local/lib/python3.5/dist-packages (from nbconvert->jupyter->-r requirements.txt (line 1)) (0.3)\n",
      "Requirement already satisfied: testpath in /usr/local/lib/python3.5/dist-packages (from nbconvert->jupyter->-r requirements.txt (line 1)) (0.4.4)\n",
      "Requirement already satisfied: bleach in /usr/local/lib/python3.5/dist-packages (from nbconvert->jupyter->-r requirements.txt (line 1)) (3.1.0)\n",
      "Requirement already satisfied: pandocfilters>=1.4.1 in /usr/local/lib/python3.5/dist-packages (from nbconvert->jupyter->-r requirements.txt (line 1)) (1.4.2)\n",
      "Requirement already satisfied: defusedxml in /usr/local/lib/python3.5/dist-packages (from nbconvert->jupyter->-r requirements.txt (line 1)) (0.6.0)\n",
      "Requirement already satisfied: mistune<2,>=0.8.1 in /usr/local/lib/python3.5/dist-packages (from nbconvert->jupyter->-r requirements.txt (line 1)) (0.8.4)\n",
      "Requirement already satisfied: jupyter-core in /usr/local/lib/python3.5/dist-packages (from nbconvert->jupyter->-r requirements.txt (line 1)) (4.6.1)\n",
      "Requirement already satisfied: jinja2>=2.4 in /usr/local/lib/python3.5/dist-packages (from nbconvert->jupyter->-r requirements.txt (line 1)) (2.10.3)\n",
      "Requirement already satisfied: traitlets>=4.2 in /usr/local/lib/python3.5/dist-packages (from nbconvert->jupyter->-r requirements.txt (line 1)) (4.3.3)\n",
      "Requirement already satisfied: nbformat>=4.4 in /usr/local/lib/python3.5/dist-packages (from nbconvert->jupyter->-r requirements.txt (line 1)) (5.0.3)\n",
      "Requirement already satisfied: Send2Trash in /usr/local/lib/python3.5/dist-packages (from notebook->jupyter->-r requirements.txt (line 1)) (1.5.0)\n",
      "Requirement already satisfied: pyzmq>=17 in /usr/local/lib/python3.5/dist-packages (from notebook->jupyter->-r requirements.txt (line 1)) (18.1.1)\n",
      "Requirement already satisfied: prometheus-client in /usr/local/lib/python3.5/dist-packages (from notebook->jupyter->-r requirements.txt (line 1)) (0.7.1)\n",
      "Requirement already satisfied: terminado>=0.8.1 in /usr/local/lib/python3.5/dist-packages (from notebook->jupyter->-r requirements.txt (line 1)) (0.8.3)\n",
      "Requirement already satisfied: tornado>=5.0 in /usr/local/lib/python3.5/dist-packages (from notebook->jupyter->-r requirements.txt (line 1)) (5.1.1)\n",
      "Requirement already satisfied: ipython-genutils in /usr/local/lib/python3.5/dist-packages (from notebook->jupyter->-r requirements.txt (line 1)) (0.2.0)\n",
      "Requirement already satisfied: widgetsnbextension~=3.5.0 in /usr/local/lib/python3.5/dist-packages (from ipywidgets->jupyter->-r requirements.txt (line 1)) (3.5.1)\n",
      "Requirement already satisfied: icc-rt in /usr/local/lib/python3.5/dist-packages (from numpy>=1.10.0->matplotlib->-r requirements.txt (line 2)) (2020.0.133)\n",
      "Requirement already satisfied: mkl-fft in /usr/local/lib/python3.5/dist-packages (from numpy>=1.10.0->matplotlib->-r requirements.txt (line 2)) (1.0.6)\n",
      "Requirement already satisfied: tbb4py in /usr/local/lib/python3.5/dist-packages (from numpy>=1.10.0->matplotlib->-r requirements.txt (line 2)) (2019.0)\n",
      "Requirement already satisfied: mkl in /usr/local/lib/python3.5/dist-packages (from numpy>=1.10.0->matplotlib->-r requirements.txt (line 2)) (2019.0)\n",
      "Requirement already satisfied: mkl-random in /usr/local/lib/python3.5/dist-packages (from numpy>=1.10.0->matplotlib->-r requirements.txt (line 2)) (1.0.1.1)\n",
      "Requirement already satisfied: setuptools in /usr/local/lib/python3.5/dist-packages (from kiwisolver>=1.0.1->matplotlib->-r requirements.txt (line 2)) (45.0.0)\n",
      "Requirement already satisfied: mido>=1.1.16 in /usr/local/lib/python3.5/dist-packages (from pretty-midi<1.0,>=0.2.8->pypianoroll->-r requirements.txt (line 7)) (1.2.9)\n",
      "Requirement already satisfied: intel-numpy in /usr/local/lib/python3.5/dist-packages (from scipy<2.0,>=1.0.0->pypianoroll->-r requirements.txt (line 7)) (1.15.1)\n",
      "Requirement already satisfied: wcwidth in /usr/local/lib/python3.5/dist-packages (from prompt-toolkit!=3.0.0,!=3.0.1,<3.1.0,>=2.0.0->jupyter-console->jupyter->-r requirements.txt (line 1)) (0.1.8)\n",
      "Requirement already satisfied: pexpect; sys_platform != \"win32\" in /usr/local/lib/python3.5/dist-packages (from ipython->jupyter-console->jupyter->-r requirements.txt (line 1)) (4.7.0)\n",
      "Requirement already satisfied: decorator in /usr/local/lib/python3.5/dist-packages (from ipython->jupyter-console->jupyter->-r requirements.txt (line 1)) (4.4.1)\n",
      "Requirement already satisfied: pickleshare in /usr/local/lib/python3.5/dist-packages (from ipython->jupyter-console->jupyter->-r requirements.txt (line 1)) (0.7.5)\n",
      "Requirement already satisfied: backcall in /usr/local/lib/python3.5/dist-packages (from ipython->jupyter-console->jupyter->-r requirements.txt (line 1)) (0.1.0)\n",
      "Requirement already satisfied: jedi>=0.10 in /usr/local/lib/python3.5/dist-packages (from ipython->jupyter-console->jupyter->-r requirements.txt (line 1)) (0.15.2)\n",
      "Requirement already satisfied: webencodings in /usr/local/lib/python3.5/dist-packages (from bleach->nbconvert->jupyter->-r requirements.txt (line 1)) (0.5.1)\n",
      "Requirement already satisfied: MarkupSafe>=0.23 in /usr/local/lib/python3.5/dist-packages (from jinja2>=2.4->nbconvert->jupyter->-r requirements.txt (line 1)) (1.1.1)\n",
      "Requirement already satisfied: jsonschema!=2.5.0,>=2.4 in /usr/local/lib/python3.5/dist-packages (from nbformat>=4.4->nbconvert->jupyter->-r requirements.txt (line 1)) (3.2.0)\n",
      "Requirement already satisfied: ptyprocess; os_name != \"nt\" in /usr/local/lib/python3.5/dist-packages (from terminado>=0.8.1->notebook->jupyter->-r requirements.txt (line 1)) (0.6.0)\n",
      "Requirement already satisfied: intel-openmp==2020.* in /usr/local/lib/python3.5/dist-packages (from icc-rt->numpy>=1.10.0->matplotlib->-r requirements.txt (line 2)) (2020.0.133)\n",
      "Requirement already satisfied: tbb==2019.* in /usr/local/lib/python3.5/dist-packages (from tbb4py->numpy>=1.10.0->matplotlib->-r requirements.txt (line 2)) (2019.0)\n",
      "Requirement already satisfied: parso>=0.5.2 in /usr/local/lib/python3.5/dist-packages (from jedi>=0.10->ipython->jupyter-console->jupyter->-r requirements.txt (line 1)) (0.5.2)\n",
      "Requirement already satisfied: attrs>=17.4.0 in /usr/local/lib/python3.5/dist-packages (from jsonschema!=2.5.0,>=2.4->nbformat>=4.4->nbconvert->jupyter->-r requirements.txt (line 1)) (19.3.0)\n",
      "Requirement already satisfied: pyrsistent>=0.14.0 in /usr/local/lib/python3.5/dist-packages (from jsonschema!=2.5.0,>=2.4->nbformat>=4.4->nbconvert->jupyter->-r requirements.txt (line 1)) (0.15.7)\n",
      "Requirement already satisfied: importlib-metadata; python_version < \"3.8\" in /usr/local/lib/python3.5/dist-packages (from jsonschema!=2.5.0,>=2.4->nbformat>=4.4->nbconvert->jupyter->-r requirements.txt (line 1)) (1.4.0)\n",
      "Requirement already satisfied: zipp>=0.5 in /usr/local/lib/python3.5/dist-packages (from importlib-metadata; python_version < \"3.8\"->jsonschema!=2.5.0,>=2.4->nbformat>=4.4->nbconvert->jupyter->-r requirements.txt (line 1)) (1.0.0)\n",
      "Requirement already satisfied: more-itertools in /usr/local/lib/python3.5/dist-packages (from zipp>=0.5->importlib-metadata; python_version < \"3.8\"->jsonschema!=2.5.0,>=2.4->nbformat>=4.4->nbconvert->jupyter->-r requirements.txt (line 1)) (8.1.0)\n",
      "\u001b[33mWARNING: You are using pip version 19.3.1; however, version 20.0.2 is available.\n",
      "You should consider upgrading via the 'pip install --upgrade pip' command.\u001b[0m\n"
     ]
    }
   ],
   "source": [
    "!sudo pip install -r requirements.txt"
   ]
  },
  {
   "cell_type": "code",
   "execution_count": 2,
   "metadata": {},
   "outputs": [
    {
     "name": "stdout",
     "output_type": "stream",
     "text": [
      "--2020-01-30 18:28:58--  https://storage.googleapis.com/magentadata/datasets/maestro/v2.0.0/maestro-v2.0.0-midi.zip\n",
      "Resolving storage.googleapis.com (storage.googleapis.com)... 74.125.20.128, 2607:f8b0:400e:c08::80\n",
      "Connecting to storage.googleapis.com (storage.googleapis.com)|74.125.20.128|:443... connected.\n",
      "HTTP request sent, awaiting response... 200 OK\n",
      "Length: 59243107 (56M) [application/zip]\n",
      "Saving to: ‘maestro-v2.0.0-midi.zip.1’\n",
      "\n",
      "maestro-v2.0.0-midi 100%[===================>]  56.50M  66.5MB/s    in 0.8s    \n",
      "\n",
      "2020-01-30 18:29:00 (66.5 MB/s) - ‘maestro-v2.0.0-midi.zip.1’ saved [59243107/59243107]\n",
      "\n"
     ]
    }
   ],
   "source": [
    "!wget https://storage.googleapis.com/magentadata/datasets/maestro/v2.0.0/maestro-v2.0.0-midi.zip"
   ]
  },
  {
   "cell_type": "code",
   "execution_count": 3,
   "metadata": {},
   "outputs": [
    {
     "name": "stdout",
     "output_type": "stream",
     "text": [
      "\n",
      "7-Zip [64] 16.02 : Copyright (c) 1999-2016 Igor Pavlov : 2016-05-21\n",
      "p7zip Version 16.02 (locale=en_US.UTF-8,Utf16=on,HugeFiles=on,64 bits,2 CPUs Intel(R) Xeon(R) CPU @ 2.20GHz (406F0),ASM,AES-NI)\n",
      "\n",
      "Scanning the drive for archives:\n",
      "  0M Sca        1 file, 59243107 bytes (57 MiB)\n",
      "\n",
      "Extracting archive: maestro-v2.0.0-midi.zip\n",
      "--\n",
      "Path = maestro-v2.0.0-midi.zip\n",
      "Type = zip\n",
      "Physical Size = 59243107\n",
      "\n",
      "    \n",
      "Would you like to replace the existing file:\n",
      "  Path:     ./maestro-v2.0.0/maestro-v2.0.0.csv\n",
      "  Size:     300212 bytes (294 KiB)\n",
      "  Modified: 2019-05-11 06:07:32\n",
      "with the file from archive:\n",
      "  Path:     maestro-v2.0.0/maestro-v2.0.0.csv\n",
      "  Size:     300212 bytes (294 KiB)\n",
      "  Modified: 2019-05-11 06:07:32\n",
      "? (Y)es / (N)o / (A)lways / (S)kip all / A(u)to rename all / (Q)uit? ^C\n",
      "(Y)es / (N)o / (A)lways / (S)kip all / A(u)to rename all / (Q)uit? "
     ]
    }
   ],
   "source": [
    "!7z x maestro-v2.0.0-midi.zip"
   ]
  },
  {
   "cell_type": "code",
   "execution_count": 10,
   "metadata": {},
   "outputs": [],
   "source": [
    "import os\n",
    "import shutil\n",
    "import numpy as np\n",
    "import csv\n",
    "import pretty_midi\n",
    "import pprint\n",
    "import glob\n",
    "from google.cloud import storage\n",
    "from PIL import Image\n",
    "import matplotlib.pyplot as plt\n",
    "# from matplotlib import cm\n",
    "%matplotlib inline"
   ]
  },
  {
   "cell_type": "code",
   "execution_count": 11,
   "metadata": {},
   "outputs": [],
   "source": [
    "def transpose_range(samples):\n",
    "    merged_sample = np.zeros_like(samples[0])\n",
    "    for sample in samples:\n",
    "        merged_sample = np.maximum(merged_sample, sample)\n",
    "    merged_sample = np.amax(merged_sample, axis=0)\n",
    "    min_note = np.argmax(merged_sample)\n",
    "    max_note = merged_sample.shape[0] - np.argmax(merged_sample[::-1])\n",
    "    return min_note, max_note\n",
    "\n",
    "def generate_add_centered_transpose(samples):\n",
    "    num_notes = samples[0].shape[1]\n",
    "    min_note, max_note = transpose_range(samples)\n",
    "#     print(min_note, max_note)\n",
    "    s = num_notes//2 - (max_note + min_note)//2\n",
    "#     print(s)\n",
    "    out_samples = samples\n",
    "    out_lens = [len(samples), len(samples)]\n",
    "    for i in range(len(samples)):\n",
    "        out_sample = np.zeros_like(samples[i])\n",
    "        out_sample[:,min_note+s:max_note+s] = samples[i][:,min_note:max_note]\n",
    "        out_samples.append(out_sample)\n",
    "    return out_samples, out_lens"
   ]
  },
  {
   "cell_type": "code",
   "execution_count": 12,
   "metadata": {},
   "outputs": [],
   "source": [
    "from mido import MidiFile, MidiTrack, Message\n",
    "import numpy as np\n",
    "\n",
    "num_notes = 96\n",
    "samples_per_measure = 96\n",
    "\n",
    "def midi_to_samples(fname):\n",
    "    has_time_sig = False\n",
    "    flag_warning = False\n",
    "    mid = MidiFile(fname)\n",
    "    ticks_per_beat = mid.ticks_per_beat\n",
    "    ticks_per_measure = 4 * ticks_per_beat\n",
    "\n",
    "    for i, track in enumerate(mid.tracks):\n",
    "        for msg in track:\n",
    "            if msg.type == 'time_signature':\n",
    "                new_tpm = msg.numerator * ticks_per_beat * 4 / msg.denominator\n",
    "                if has_time_sig and new_tpm != ticks_per_measure:\n",
    "                    flag_warning = True\n",
    "                ticks_per_measure = new_tpm\n",
    "                has_time_sig = True\n",
    "    if flag_warning:\n",
    "        print(\"  ^^^^^^ WARNING ^^^^^^\")\n",
    "        print(\"    \" + fname)\n",
    "        print(\"    Detected multiple distinct time signatures.\")\n",
    "        print(\"  ^^^^^^ WARNING ^^^^^^\")\n",
    "        return []\n",
    "\n",
    "    all_notes = {}\n",
    "    for i, track in enumerate(mid.tracks):\n",
    "        abs_time = 0\n",
    "        for msg in track:\n",
    "            abs_time += msg.time\n",
    "            if msg.type == 'note_on':\n",
    "                if msg.velocity == 0:\n",
    "                    continue\n",
    "                note = msg.note - (128 - num_notes)/2\n",
    "                assert(note >= 0 and note < num_notes)\n",
    "                if note not in all_notes:\n",
    "                    all_notes[note] = []\n",
    "                else:\n",
    "                    single_note = all_notes[note][-1]\n",
    "                    if len(single_note) == 1:\n",
    "                        single_note.append(single_note[0] + 1)\n",
    "                all_notes[note].append([abs_time * samples_per_measure / ticks_per_measure])\n",
    "            elif msg.type == 'note_off':\n",
    "                if len(all_notes[note][-1]) != 1:\n",
    "                    continue\n",
    "                all_notes[note][-1].append(abs_time * samples_per_measure / ticks_per_measure)\n",
    "    for note in all_notes:\n",
    "        for start_end in all_notes[note]:\n",
    "            if len(start_end) == 1:\n",
    "                start_end.append(start_end[0] + 1)\n",
    "    samples = []\n",
    "    for note in all_notes:\n",
    "        for start, end in all_notes[note]:\n",
    "            sample_ix = int(start / samples_per_measure)\n",
    "            while len(samples) <= sample_ix:\n",
    "                samples.append(np.zeros((samples_per_measure, num_notes), dtype=np.uint8))\n",
    "            sample = samples[sample_ix]\n",
    "            start_ix = int(start - sample_ix * samples_per_measure)\n",
    "# print(start_ix, note)\n",
    "            if False:\n",
    "                end_ix = int(min(end - sample_ix * samples_per_measure, samples_per_measure))\n",
    "                while start_ix < end_ix:\n",
    "                    sample[start_ix, int(note)] = 1\n",
    "                    start_ix += 1\n",
    "            else:\n",
    "                sample[start_ix, int(note)] = 1\n",
    "    return samples"
   ]
  },
  {
   "cell_type": "code",
   "execution_count": 4,
   "metadata": {},
   "outputs": [
    {
     "name": "stdout",
     "output_type": "stream",
     "text": [
      "['Edvard Grieg', 'George Enescu', 'Felix Mendelssohn', 'Anton Arensky', 'Isaac Albéniz', 'Ludwig van Beethoven', 'Percy Grainger', 'Henry Purcell', 'Jean-Philippe Rameau', 'Johann Pachelbel', 'Franz Liszt', 'Frédéric Chopin', 'Antonio Soler', 'Domenico Scarlatti', 'César Franck', 'Alexander Scriabin', 'Mily Balakirev', 'Johann Sebastian Bach', 'Robert Schumann', 'Carl Maria von Weber', 'Leoš Janáček', 'Sergei Rachmaninoff', 'Nikolai Medtner', 'Wolfgang Amadeus Mozart', 'Alban Berg', 'Orlando Gibbons', 'Muzio Clementi', 'Pyotr Ilyich Tchaikovsky', 'George Frideric Handel', 'Franz Schubert', 'Modest Mussorgsky', 'Johannes Brahms', 'Joseph Haydn', 'Claude Debussy']\n",
      "Edvard Grieg 1/34\n",
      "Saving 30 samples\n",
      "George Enescu 2/34\n",
      "Saving 113 samples\n",
      "Felix Mendelssohn 3/34\n",
      "Saving 1589 samples\n",
      "Anton Arensky 4/34\n",
      "Saving 421 samples\n",
      "Isaac Albéniz 5/34\n",
      "Saving 260 samples\n",
      "Ludwig van Beethoven 6/34\n",
      "Saving 8281 samples\n",
      "Percy Grainger 7/34\n",
      "Saving 36 samples\n",
      "Henry Purcell 8/34\n",
      "Saving 44 samples\n",
      "Jean-Philippe Rameau 9/34\n",
      "Saving 27 samples\n",
      "Johann Pachelbel 10/34\n",
      "Saving 14 samples\n",
      "Franz Liszt 11/34\n",
      "Saving 6068 samples\n",
      "Frédéric Chopin 12/34\n",
      "Saving 7841 samples\n",
      "Antonio Soler 13/34\n",
      "Saving 19 samples\n",
      "Domenico Scarlatti 14/34\n",
      "Saving 512 samples\n",
      "César Franck 15/34\n",
      "Saving 381 samples\n",
      "Alexander Scriabin 16/34\n",
      "Saving 1600 samples\n",
      "Mily Balakirev 17/34\n",
      "Saving 151 samples\n",
      "Johann Sebastian Bach 18/34\n",
      "Saving 4105 samples\n",
      "Robert Schumann 19/34\n",
      "Saving 4708 samples\n",
      "Carl Maria von Weber 20/34\n",
      "Saving 78 samples\n",
      "Leoš Janáček 21/34\n",
      "Saving 231 samples\n",
      "Sergei Rachmaninoff 22/34\n",
      "Saving 1992 samples\n",
      "Nikolai Medtner 23/34\n",
      "Saving 232 samples\n",
      "Wolfgang Amadeus Mozart 24/34\n",
      "Saving 1678 samples\n",
      "Alban Berg 25/34\n",
      "Saving 158 samples\n",
      "Orlando Gibbons 26/34\n",
      "Saving 20 samples\n",
      "Muzio Clementi 27/34\n",
      "Saving 261 samples\n",
      "Pyotr Ilyich Tchaikovsky 28/34\n",
      "Saving 212 samples\n",
      "George Frideric Handel 29/34\n",
      "Saving 222 samples\n",
      "Franz Schubert 30/34\n",
      "Saving 10719 samples\n",
      "Modest Mussorgsky 31/34\n",
      "Saving 951 samples\n",
      "Johannes Brahms 32/34\n",
      "Saving 2414 samples\n",
      "Joseph Haydn 33/34\n",
      "Saving 1418 samples\n",
      "Claude Debussy 34/34\n",
      "Saving 1790 samples\n"
     ]
    }
   ],
   "source": [
    "base = './maestro-v2.0.0/'\n",
    "csvfile = open('maestro-v2.0.0.csv')\n",
    "reader = csv.DictReader(csvfile)\n",
    "db = list(reader)\n",
    "csvfile.close()\n",
    "composers = set(row ['canonical_composer'] for row in db)\n",
    "composers = list(filter(lambda x: x.find('/') == -1, composers))\n",
    "print(composers)\n",
    "a = 0\n",
    "l = len(composers)\n",
    "for composer in composers:\n",
    "    print(composer, \"{}/{}\".format(a+1,l))\n",
    "    a += 1\n",
    "    all_samples = []\n",
    "    all_lens = []\n",
    "    for row in db:\n",
    "        if composer == row['canonical_composer']:\n",
    "            path = base + row['midi_filename']\n",
    "            samples = midi_to_samples(path)\n",
    "            sample, lens = generate_add_centered_transpose(samples)\n",
    "            all_samples += samples\n",
    "            all_lens += lens\n",
    "    assert(sum(all_lens) == len(all_samples))\n",
    "    print(\"Saving \" + str(len(all_samples)//12) + \" samples\")\n",
    "    all_samples = np.array(all_samples, dtype=np.uint8)\n",
    "    dir_path = './dataset_alt/' + composer.replace(' ', '_')\n",
    "    if not os.path.exists(dir_path):\n",
    "        os.mkdir(dir_path)\n",
    "    count = 0\n",
    "    for i in range(0, len(all_samples), 12):\n",
    "        if(i + 12 < len(all_samples)):\n",
    "            t = np.concatenate(all_samples[i:i+12], axis=1)\n",
    "            np.save(\"{}/{}\".format(dir_path, str(count)), t)\n",
    "            count += 1\n",
    "# for row in db:\n",
    "#     composer = row['canonical_composer']\n",
    "#     path = base + row['midi_filename']\n",
    "#     print(path)\n",
    "#     samples = midi_to_samples(path)\n",
    "#     samples, lens = generate_add_centered_transpose(samples)\n",
    "#     print(samples)\n",
    "#     all_samples[composer] = all_samples.get(composer, []) + samples\n",
    "#     all_lens[composer] = all_lens.get(composer, []) + lens\n",
    "#     assert(sum(all_lens[composer]) == len(all_samples[composer]))\n",
    "#     print(\"Saving \" + str(len(all_samples[composer])) + \" samples...\")\n",
    "#     all_samples[composer] = np.array(all_samples[composer], dtype=np.uint8)\n",
    "#     all_lens[composer] = np.array(all_lens[composer], dtype=np.uint32)      "
   ]
  },
  {
   "cell_type": "code",
   "execution_count": 4,
   "metadata": {},
   "outputs": [
    {
     "name": "stdout",
     "output_type": "stream",
     "text": [
      "['Antonio Soler', 'Pyotr Ilyich Tchaikovsky', 'Jean-Philippe Rameau', 'Carl Maria von Weber', 'Wolfgang Amadeus Mozart', 'Claude Debussy', 'Alban Berg', 'Alexander Scriabin', 'George Enescu', 'Sergei Rachmaninoff', 'Ludwig van Beethoven', 'Franz Schubert', 'Franz Liszt', 'Muzio Clementi', 'Orlando Gibbons', 'Mily Balakirev', 'Anton Arensky', 'George Frideric Handel', 'Leoš Janáček', 'Modest Mussorgsky', 'Isaac Albéniz', 'Felix Mendelssohn', 'Joseph Haydn', 'César Franck', 'Nikolai Medtner', 'Johannes Brahms', 'Percy Grainger', 'Johann Pachelbel', 'Johann Sebastian Bach', 'Robert Schumann', 'Domenico Scarlatti', 'Henry Purcell', 'Edvard Grieg', 'Frédéric Chopin']\n",
      "Antonio Soler 1/34\n",
      "Pyotr Ilyich Tchaikovsky 2/34\n",
      "Jean-Philippe Rameau 3/34\n",
      "Carl Maria von Weber 4/34\n",
      "Wolfgang Amadeus Mozart 5/34\n",
      "Claude Debussy 6/34\n",
      "Alban Berg 7/34\n",
      "Alexander Scriabin 8/34\n",
      "George Enescu 9/34\n",
      "Sergei Rachmaninoff 10/34\n",
      "Ludwig van Beethoven 11/34\n",
      "Franz Schubert 12/34\n",
      "Franz Liszt 13/34\n",
      "Muzio Clementi 14/34\n",
      "Orlando Gibbons 15/34\n",
      "Mily Balakirev 16/34\n",
      "Anton Arensky 17/34\n",
      "George Frideric Handel 18/34\n",
      "Leoš Janáček 19/34\n",
      "Modest Mussorgsky 20/34\n",
      "Isaac Albéniz 21/34\n",
      "Felix Mendelssohn 22/34\n",
      "Joseph Haydn 23/34\n",
      "César Franck 24/34\n",
      "Nikolai Medtner 25/34\n",
      "Johannes Brahms 26/34\n",
      "Percy Grainger 27/34\n",
      "Johann Pachelbel 28/34\n",
      "Johann Sebastian Bach 29/34\n",
      "Robert Schumann 30/34\n",
      "Domenico Scarlatti 31/34\n",
      "Henry Purcell 32/34\n",
      "Edvard Grieg 33/34\n",
      "Frédéric Chopin 34/34\n"
     ]
    }
   ],
   "source": [
    "base = './maestro-v2.0.0/'\n",
    "csvfile = open('maestro-v2.0.0.csv')\n",
    "reader = csv.DictReader(csvfile)\n",
    "db = list(reader)\n",
    "csvfile.close()\n",
    "composers = set(row ['canonical_composer'] for row in db)\n",
    "composers = list(filter(lambda x: x.find('/') == -1, composers))\n",
    "print(composers)\n",
    "a = 0\n",
    "l = len(composers)\n",
    "for composer in composers:\n",
    "    print(composer, \"{}/{}\".format(a+1,l))\n",
    "    a += 1\n",
    "    for row in db:\n",
    "        if composer == row['canonical_composer']:\n",
    "            path = base + row['midi_filename']\n",
    "            dir_path = './result_dataset/' + composer.replace(' ', '_')\n",
    "            if not os.path.exists(dir_path):\n",
    "                os.mkdir(dir_path)\n",
    "            shutil.copy2(path, dir_path)"
   ]
  },
  {
   "cell_type": "code",
   "execution_count": 13,
   "metadata": {},
   "outputs": [],
   "source": [
    "def samples_to_midi(samples, fname, ticks_per_sample, thresh=0.5):\n",
    "    mid = MidiFile()\n",
    "    track = MidiTrack()\n",
    "    mid.tracks.append(track)\n",
    "    ticks_per_beat = mid.ticks_per_beat\n",
    "    ticks_per_measure = 4 * ticks_per_beat\n",
    "    ticks_per_sample = ticks_per_measure // samples_per_measure\n",
    "    abs_time = 0\n",
    "    last_time = 0\n",
    "    for sample in samples:\n",
    "        for y in range(sample.shape[0]):\n",
    "            abs_time += ticks_per_sample\n",
    "            for x in range(sample.shape[1]):\n",
    "                note = x + (128 - num_notes)//2\n",
    "                if sample[y,x] >= thresh and (y == 0 or sample[y-1,x] < thresh):\n",
    "                    delta_time = abs_time - last_time\n",
    "                    track.append(Message('note_on', note=note, velocity=127, time=delta_time))\n",
    "                    last_time = abs_time\n",
    "                if sample[y,x] >= thresh and (y == sample.shape[0]-1 or sample[y+1,x] < thresh):\n",
    "                    delta_time = abs_time - last_time\n",
    "                    track.append(Message('note_off', note=note, velocity=127, time=delta_time))\n",
    "                    last_time = abs_time\n",
    "    mid.save(fname)"
   ]
  },
  {
   "cell_type": "code",
   "execution_count": 14,
   "metadata": {},
   "outputs": [],
   "source": [
    "samples = []\n",
    "for image in glob.glob('./output_alt/Henry_Purcell/*_0.png.npy'):\n",
    "    samples.append(np.load(image))\n"
   ]
  },
  {
   "cell_type": "code",
   "execution_count": 15,
   "metadata": {},
   "outputs": [
    {
     "data": {
      "text/plain": [
       "(96, 1152)"
      ]
     },
     "execution_count": 15,
     "metadata": {},
     "output_type": "execute_result"
    }
   ],
   "source": [
    "samples[49].shape"
   ]
  },
  {
   "cell_type": "code",
   "execution_count": 17,
   "metadata": {},
   "outputs": [],
   "source": [
    "samples_to_midi(np.split(samples[9], 12, 1), 'sample_song_henry_purcell_50.mid', 16)"
   ]
  },
  {
   "cell_type": "code",
   "execution_count": 39,
   "metadata": {},
   "outputs": [
    {
     "data": {
      "text/plain": [
       "(96, 96)"
      ]
     },
     "execution_count": 39,
     "metadata": {},
     "output_type": "execute_result"
    }
   ],
   "source": [
    "np.split(samples[0], 12, 1)[0].shape"
   ]
  },
  {
   "cell_type": "code",
   "execution_count": 39,
   "metadata": {},
   "outputs": [
    {
     "data": {
      "text/plain": [
       "array([[0, 0, 0, ..., 0, 0, 0],\n",
       "       [0, 0, 0, ..., 0, 0, 0],\n",
       "       [0, 0, 0, ..., 0, 0, 0],\n",
       "       ...,\n",
       "       [0, 0, 0, ..., 0, 0, 0],\n",
       "       [0, 0, 0, ..., 0, 0, 0],\n",
       "       [0, 0, 0, ..., 0, 0, 0]], dtype=uint8)"
      ]
     },
     "execution_count": 39,
     "metadata": {},
     "output_type": "execute_result"
    }
   ],
   "source": [
    "n"
   ]
  },
  {
   "cell_type": "code",
   "execution_count": 42,
   "metadata": {},
   "outputs": [
    {
     "data": {
      "text/plain": [
       "(array([47, 85]), array([51, 56]))"
      ]
     },
     "execution_count": 42,
     "metadata": {},
     "output_type": "execute_result"
    }
   ],
   "source": [
    "np.where(n == 1,)"
   ]
  },
  {
   "cell_type": "code",
   "execution_count": 6,
   "metadata": {},
   "outputs": [
    {
     "data": {
      "text/plain": [
       "(96, 1152)"
      ]
     },
     "execution_count": 6,
     "metadata": {},
     "output_type": "execute_result"
    }
   ],
   "source": [
    "a.shape"
   ]
  },
  {
   "cell_type": "code",
   "execution_count": 67,
   "metadata": {},
   "outputs": [],
   "source": [
    "import cv2\n",
    "def sample_to_pic(fname, sample, thresh=None):\n",
    "\tif thresh is not None:\n",
    "\t\tinverted = np.where(sample > thresh, 0, 1)\n",
    "\telse:\n",
    "\t\tinverted = 1.0 - sample\n",
    "\tcv2.imwrite(fname, inverted * 255)\n",
    "\n",
    "def samples_to_pics(dir, samples, thresh=None):\n",
    "\tif not os.path.exists(dir): os.makedirs(dir)\n",
    "\tfor i in range(samples.shape[0]):\n",
    "\t\tsample_to_pic(dir + '/s' + str(i) + '.png', samples[i], thresh)"
   ]
  },
  {
   "cell_type": "code",
   "execution_count": 68,
   "metadata": {},
   "outputs": [],
   "source": [
    "sample_to_pic(\"s1.png\", samples[0], 1)"
   ]
  },
  {
   "cell_type": "code",
   "execution_count": null,
   "metadata": {},
   "outputs": [],
   "source": []
  }
 ],
 "metadata": {
  "kernelspec": {
   "display_name": "Python 3",
   "language": "python",
   "name": "python3"
  },
  "language_info": {
   "codemirror_mode": {
    "name": "ipython",
    "version": 3
   },
   "file_extension": ".py",
   "mimetype": "text/x-python",
   "name": "python",
   "nbconvert_exporter": "python",
   "pygments_lexer": "ipython3",
   "version": "3.5.3"
  }
 },
 "nbformat": 4,
 "nbformat_minor": 4
}
